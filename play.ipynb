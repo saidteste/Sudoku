{
 "metadata": {
  "language_info": {
   "codemirror_mode": {
    "name": "ipython",
    "version": 3
   },
   "file_extension": ".py",
   "mimetype": "text/x-python",
   "name": "python",
   "nbconvert_exporter": "python",
   "pygments_lexer": "ipython3",
   "version": "3.8.5-final"
  },
  "orig_nbformat": 2,
  "kernelspec": {
   "name": "python3",
   "display_name": "Python 3",
   "language": "python"
  }
 },
 "nbformat": 4,
 "nbformat_minor": 2,
 "cells": [
  {
   "cell_type": "code",
   "execution_count": 2,
   "metadata": {},
   "outputs": [],
   "source": [
    "board = [\n",
    "    [7,8,0,4,0,0,1,2,0],\n",
    "    [6,0,0,0,7,5,0,0,9],\n",
    "    [0,0,0,6,0,1,0,7,8],\n",
    "    [0,0,7,0,4,0,2,6,0],\n",
    "    [0,0,1,0,5,0,9,3,0],\n",
    "    [9,0,4,0,6,0,0,0,5],\n",
    "    [0,7,0,3,0,0,0,1,2],\n",
    "    [1,2,0,0,0,7,4,0,0],\n",
    "    [0,4,9,2,0,6,0,0,7]\n",
    "]\n"
   ]
  },
  {
   "cell_type": "code",
   "execution_count": 42,
   "metadata": {},
   "outputs": [
    {
     "output_type": "stream",
     "name": "stdout",
     "text": [
      "7\n"
     ]
    }
   ],
   "source": [
    "find = find_empty(board)\n",
    "row, col = find\n",
    "print(board[0][0])"
   ]
  },
  {
   "cell_type": "code",
   "execution_count": 49,
   "metadata": {},
   "outputs": [],
   "source": [
    "def print_board(bo):\n",
    " \n",
    "    #imprimer les lignes\n",
    "    for i in range(len(bo)): # i = [1:9]\n",
    "        if i % 3 == 0 and  i != 0:\n",
    "            print(\"-----------------------\")\n",
    "         \n",
    "        for j in range(len(bo[0])):\n",
    "            if j % 3 == 0 and j != 0: # j = [0:9]\n",
    "                print(\" | \", end =\"\")     \n",
    "\n",
    "            if j == 8:\n",
    "                print(bo[i][j])\n",
    "            else:\n",
    "                print(str(bo[i][j]) +   \" \", end=\"\" )\n",
    "\n",
    "\n",
    "#show the position of every cas where case[i][j]=0\n",
    "def find_empty(bo):\n",
    "    nb_vide = 0\n",
    "    for i in range(len(bo)):\n",
    "        for j in range(len(bo[i])):\n",
    "            if bo[i][j] == 0:\n",
    "                return (i, j) # i=row and j=col \n",
    "\n",
    "    return None \n",
    "\n",
    "\n",
    "def  valid(bo, num, pos):\n",
    "    \n",
    "    #Verfier les lignes \n",
    "    for i in range(len(bo[0])):\n",
    "        if bo[pos[0]][i] == num and pos[1] != i:\n",
    "            return False \n",
    "    \n",
    "    #Vérifier les colonnes \n",
    "    for i in range(len(bo)):\n",
    "        if bo[i][pos[1]] == num and pos[0] != i:\n",
    "            return False\n",
    "\n",
    "    #Check box\n",
    "    box_x = pos[1] // 3\n",
    "    box_y = pos[0] // 3\n",
    "\n",
    "    for i in range(box_y * 3, box_y * 3 + 3):\n",
    "        for j in range(box_x * 3, box_x * 3 + 3 ):\n",
    "            if bo[i][j] == num and (i, j) != pos:\n",
    "                return False \n",
    "\n",
    "    return True\n",
    "\n",
    "\n",
    "#Solve the matrice\n",
    "def solve(bo):\n",
    "    \n",
    "    find = find_empty(bo)\n",
    "    if not find:\n",
    "        return True \n",
    "    else: #Start our récursive function \n",
    "        row, col = find \n",
    "    \n",
    "        for i in range(1, 10):\n",
    "            if valid(bo, i, (row,col)):\n",
    "                #plugin the value \n",
    "                bo[row][col] = i \n",
    "\n",
    "                if solve(bo):\n",
    "                    return True \n",
    "\n",
    "                bo[row][col] = 0 \n",
    "\n",
    "        return False  "
   ]
  },
  {
   "cell_type": "code",
   "execution_count": 50,
   "metadata": {},
   "outputs": [
    {
     "output_type": "stream",
     "name": "stdout",
     "text": [
      "7 8 0  | 4 0 0  | 1 2 0\n6 0 0  | 0 7 5  | 0 0 9\n0 0 0  | 6 0 1  | 0 7 8\n-----------------------\n0 0 7  | 0 4 0  | 2 6 0\n0 0 1  | 0 5 0  | 9 3 0\n9 0 4  | 0 6 0  | 0 0 5\n-----------------------\n0 7 0  | 3 0 0  | 0 1 2\n1 2 0  | 0 0 7  | 4 0 0\n0 4 9  | 2 0 6  | 0 0 7\n\n-------------- Solution -------------- \n\n7 8 5  | 4 3 9  | 1 2 6\n6 1 2  | 8 7 5  | 3 4 9\n4 9 3  | 6 2 1  | 5 7 8\n-----------------------\n8 5 7  | 9 4 3  | 2 6 1\n2 6 1  | 7 5 8  | 9 3 4\n9 3 4  | 1 6 2  | 7 8 5\n-----------------------\n5 7 8  | 3 9 4  | 6 1 2\n1 2 6  | 5 8 7  | 4 9 3\n3 4 9  | 2 1 6  | 8 5 7\n"
     ]
    }
   ],
   "source": [
    "#RUN \n",
    "print_board(board)\n",
    "solve(board)\n",
    "print(\"\\n-------------- Solution -------------- \\n\")\n",
    "print_board(board)"
   ]
  },
  {
   "cell_type": "code",
   "execution_count": null,
   "metadata": {},
   "outputs": [],
   "source": []
  }
 ]
}